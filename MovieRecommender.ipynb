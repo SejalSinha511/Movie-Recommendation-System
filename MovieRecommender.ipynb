{
  "nbformat": 4,
  "nbformat_minor": 0,
  "metadata": {
    "colab": {
      "provenance": []
    },
    "kernelspec": {
      "name": "python3",
      "display_name": "Python 3"
    },
    "language_info": {
      "name": "python"
    }
  },
  "cells": [
    {
      "cell_type": "code",
      "execution_count": 41,
      "metadata": {
        "id": "5uz61AotFzQx"
      },
      "outputs": [],
      "source": [
        "import numpy as np\n",
        "import pandas as pd\n",
        "import seaborn as sns\n",
        "\n",
        "import matplotlib.pyplot as plt\n",
        "%matplotlib inline\n",
        "\n",
        "from sklearn.feature_extraction.text import TfidfVectorizer, CountVectorizer\n",
        "from sklearn.metrics.pairwise import linear_kernel, cosine_similarity"
      ]
    },
    {
      "cell_type": "code",
      "source": [
        "from google.colab import drive\n",
        "drive.mount('/content/drive') "
      ],
      "metadata": {
        "colab": {
          "base_uri": "https://localhost:8080/"
        },
        "id": "HL0N3ioUGD0R",
        "outputId": "196ae488-c625-462a-d8c0-f824b2e9599c"
      },
      "execution_count": 42,
      "outputs": [
        {
          "output_type": "stream",
          "name": "stdout",
          "text": [
            "Drive already mounted at /content/drive; to attempt to forcibly remount, call drive.mount(\"/content/drive\", force_remount=True).\n"
          ]
        }
      ]
    },
    {
      "cell_type": "code",
      "source": [
        "animations = pd.read_csv('/content/drive/MyDrive/Colab Notebooks/tv_movie_animation.csv')"
      ],
      "metadata": {
        "id": "J6lD0VZEGM1E"
      },
      "execution_count": 43,
      "outputs": []
    },
    {
      "cell_type": "code",
      "source": [
        "animations.head()"
      ],
      "metadata": {
        "colab": {
          "base_uri": "https://localhost:8080/",
          "height": 206
        },
        "id": "Y_MxLL4OEMn8",
        "outputId": "a13e3762-969a-4b02-da32-4b814eae7b19"
      },
      "execution_count": 44,
      "outputs": [
        {
          "output_type": "execute_result",
          "data": {
            "text/plain": [
              "                            title  \\\n",
              "0    Puss in Boots: The Last Wish   \n",
              "1                   Strange World   \n",
              "2  Guillermo del Toro's Pinocchio   \n",
              "3        Star Wars: The Bad Batch   \n",
              "4                  Rick and Morty   \n",
              "\n",
              "                                                desc    year  \\\n",
              "0  Puss in Boots discovers that his passion for a...    2022   \n",
              "1  The legendary Clades are a family of explorers...    2022   \n",
              "2  A father's wish magically brings a wooden boy ...    2022   \n",
              "3  The 'Bad Batch' of elite and experimental clon...  2021–    \n",
              "4  An animated series that follows the exploits o...  2013–    \n",
              "\n",
              "                          genre certificate  runtime  rating    votes  \n",
              "0  Animation, Adventure, Comedy           U  102 min     7.8   18,226  \n",
              "1  Animation, Action, Adventure          PG  102 min     5.5   27,296  \n",
              "2      Animation, Drama, Family          PG  117 min     7.7   60,908  \n",
              "3  Animation, Action, Adventure          PG      NaN     7.8   35,962  \n",
              "4  Animation, Adventure, Comedy         16+   23 min     9.1  527,839  "
            ],
            "text/html": [
              "\n",
              "  <div id=\"df-090fd38f-40b5-40bf-ba8d-ff865e460d60\">\n",
              "    <div class=\"colab-df-container\">\n",
              "      <div>\n",
              "<style scoped>\n",
              "    .dataframe tbody tr th:only-of-type {\n",
              "        vertical-align: middle;\n",
              "    }\n",
              "\n",
              "    .dataframe tbody tr th {\n",
              "        vertical-align: top;\n",
              "    }\n",
              "\n",
              "    .dataframe thead th {\n",
              "        text-align: right;\n",
              "    }\n",
              "</style>\n",
              "<table border=\"1\" class=\"dataframe\">\n",
              "  <thead>\n",
              "    <tr style=\"text-align: right;\">\n",
              "      <th></th>\n",
              "      <th>title</th>\n",
              "      <th>desc</th>\n",
              "      <th>year</th>\n",
              "      <th>genre</th>\n",
              "      <th>certificate</th>\n",
              "      <th>runtime</th>\n",
              "      <th>rating</th>\n",
              "      <th>votes</th>\n",
              "    </tr>\n",
              "  </thead>\n",
              "  <tbody>\n",
              "    <tr>\n",
              "      <th>0</th>\n",
              "      <td>Puss in Boots: The Last Wish</td>\n",
              "      <td>Puss in Boots discovers that his passion for a...</td>\n",
              "      <td>2022</td>\n",
              "      <td>Animation, Adventure, Comedy</td>\n",
              "      <td>U</td>\n",
              "      <td>102 min</td>\n",
              "      <td>7.8</td>\n",
              "      <td>18,226</td>\n",
              "    </tr>\n",
              "    <tr>\n",
              "      <th>1</th>\n",
              "      <td>Strange World</td>\n",
              "      <td>The legendary Clades are a family of explorers...</td>\n",
              "      <td>2022</td>\n",
              "      <td>Animation, Action, Adventure</td>\n",
              "      <td>PG</td>\n",
              "      <td>102 min</td>\n",
              "      <td>5.5</td>\n",
              "      <td>27,296</td>\n",
              "    </tr>\n",
              "    <tr>\n",
              "      <th>2</th>\n",
              "      <td>Guillermo del Toro's Pinocchio</td>\n",
              "      <td>A father's wish magically brings a wooden boy ...</td>\n",
              "      <td>2022</td>\n",
              "      <td>Animation, Drama, Family</td>\n",
              "      <td>PG</td>\n",
              "      <td>117 min</td>\n",
              "      <td>7.7</td>\n",
              "      <td>60,908</td>\n",
              "    </tr>\n",
              "    <tr>\n",
              "      <th>3</th>\n",
              "      <td>Star Wars: The Bad Batch</td>\n",
              "      <td>The 'Bad Batch' of elite and experimental clon...</td>\n",
              "      <td>2021–</td>\n",
              "      <td>Animation, Action, Adventure</td>\n",
              "      <td>PG</td>\n",
              "      <td>NaN</td>\n",
              "      <td>7.8</td>\n",
              "      <td>35,962</td>\n",
              "    </tr>\n",
              "    <tr>\n",
              "      <th>4</th>\n",
              "      <td>Rick and Morty</td>\n",
              "      <td>An animated series that follows the exploits o...</td>\n",
              "      <td>2013–</td>\n",
              "      <td>Animation, Adventure, Comedy</td>\n",
              "      <td>16+</td>\n",
              "      <td>23 min</td>\n",
              "      <td>9.1</td>\n",
              "      <td>527,839</td>\n",
              "    </tr>\n",
              "  </tbody>\n",
              "</table>\n",
              "</div>\n",
              "      <button class=\"colab-df-convert\" onclick=\"convertToInteractive('df-090fd38f-40b5-40bf-ba8d-ff865e460d60')\"\n",
              "              title=\"Convert this dataframe to an interactive table.\"\n",
              "              style=\"display:none;\">\n",
              "        \n",
              "  <svg xmlns=\"http://www.w3.org/2000/svg\" height=\"24px\"viewBox=\"0 0 24 24\"\n",
              "       width=\"24px\">\n",
              "    <path d=\"M0 0h24v24H0V0z\" fill=\"none\"/>\n",
              "    <path d=\"M18.56 5.44l.94 2.06.94-2.06 2.06-.94-2.06-.94-.94-2.06-.94 2.06-2.06.94zm-11 1L8.5 8.5l.94-2.06 2.06-.94-2.06-.94L8.5 2.5l-.94 2.06-2.06.94zm10 10l.94 2.06.94-2.06 2.06-.94-2.06-.94-.94-2.06-.94 2.06-2.06.94z\"/><path d=\"M17.41 7.96l-1.37-1.37c-.4-.4-.92-.59-1.43-.59-.52 0-1.04.2-1.43.59L10.3 9.45l-7.72 7.72c-.78.78-.78 2.05 0 2.83L4 21.41c.39.39.9.59 1.41.59.51 0 1.02-.2 1.41-.59l7.78-7.78 2.81-2.81c.8-.78.8-2.07 0-2.86zM5.41 20L4 18.59l7.72-7.72 1.47 1.35L5.41 20z\"/>\n",
              "  </svg>\n",
              "      </button>\n",
              "      \n",
              "  <style>\n",
              "    .colab-df-container {\n",
              "      display:flex;\n",
              "      flex-wrap:wrap;\n",
              "      gap: 12px;\n",
              "    }\n",
              "\n",
              "    .colab-df-convert {\n",
              "      background-color: #E8F0FE;\n",
              "      border: none;\n",
              "      border-radius: 50%;\n",
              "      cursor: pointer;\n",
              "      display: none;\n",
              "      fill: #1967D2;\n",
              "      height: 32px;\n",
              "      padding: 0 0 0 0;\n",
              "      width: 32px;\n",
              "    }\n",
              "\n",
              "    .colab-df-convert:hover {\n",
              "      background-color: #E2EBFA;\n",
              "      box-shadow: 0px 1px 2px rgba(60, 64, 67, 0.3), 0px 1px 3px 1px rgba(60, 64, 67, 0.15);\n",
              "      fill: #174EA6;\n",
              "    }\n",
              "\n",
              "    [theme=dark] .colab-df-convert {\n",
              "      background-color: #3B4455;\n",
              "      fill: #D2E3FC;\n",
              "    }\n",
              "\n",
              "    [theme=dark] .colab-df-convert:hover {\n",
              "      background-color: #434B5C;\n",
              "      box-shadow: 0px 1px 3px 1px rgba(0, 0, 0, 0.15);\n",
              "      filter: drop-shadow(0px 1px 2px rgba(0, 0, 0, 0.3));\n",
              "      fill: #FFFFFF;\n",
              "    }\n",
              "  </style>\n",
              "\n",
              "      <script>\n",
              "        const buttonEl =\n",
              "          document.querySelector('#df-090fd38f-40b5-40bf-ba8d-ff865e460d60 button.colab-df-convert');\n",
              "        buttonEl.style.display =\n",
              "          google.colab.kernel.accessAllowed ? 'block' : 'none';\n",
              "\n",
              "        async function convertToInteractive(key) {\n",
              "          const element = document.querySelector('#df-090fd38f-40b5-40bf-ba8d-ff865e460d60');\n",
              "          const dataTable =\n",
              "            await google.colab.kernel.invokeFunction('convertToInteractive',\n",
              "                                                     [key], {});\n",
              "          if (!dataTable) return;\n",
              "\n",
              "          const docLinkHtml = 'Like what you see? Visit the ' +\n",
              "            '<a target=\"_blank\" href=https://colab.research.google.com/notebooks/data_table.ipynb>data table notebook</a>'\n",
              "            + ' to learn more about interactive tables.';\n",
              "          element.innerHTML = '';\n",
              "          dataTable['output_type'] = 'display_data';\n",
              "          await google.colab.output.renderOutput(dataTable, element);\n",
              "          const docLink = document.createElement('div');\n",
              "          docLink.innerHTML = docLinkHtml;\n",
              "          element.appendChild(docLink);\n",
              "        }\n",
              "      </script>\n",
              "    </div>\n",
              "  </div>\n",
              "  "
            ]
          },
          "metadata": {},
          "execution_count": 44
        }
      ]
    },
    {
      "cell_type": "code",
      "source": [
        " #find the columns having null values\n",
        " animations.isnull().sum()"
      ],
      "metadata": {
        "id": "G7VD7OqWbVU1",
        "colab": {
          "base_uri": "https://localhost:8080/"
        },
        "outputId": "d740b8a6-f4dd-4cc4-e1d3-314855bae79b"
      },
      "execution_count": 45,
      "outputs": [
        {
          "output_type": "execute_result",
          "data": {
            "text/plain": [
              "title              0\n",
              "desc               0\n",
              "year            2298\n",
              "genre              0\n",
              "certificate    21002\n",
              "runtime         9318\n",
              "rating          9080\n",
              "votes           9079\n",
              "dtype: int64"
            ]
          },
          "metadata": {},
          "execution_count": 45
        }
      ]
    },
    {
      "cell_type": "markdown",
      "source": [
        "**Data pre-processing**"
      ],
      "metadata": {
        "id": "IsQAl3AbJwBT"
      }
    },
    {
      "cell_type": "code",
      "source": [
        "#dropping the rows containing null values for rating and votes columns\n",
        "cleaned_animations_df = animations.dropna(axis = 0, subset = ['rating', 'votes'])"
      ],
      "metadata": {
        "id": "bDRk0lLPHoPR"
      },
      "execution_count": 46,
      "outputs": []
    },
    {
      "cell_type": "code",
      "source": [
        "cleaned_animations_df.dtypes"
      ],
      "metadata": {
        "colab": {
          "base_uri": "https://localhost:8080/"
        },
        "id": "we_JGNqAIH_3",
        "outputId": "fd326a74-5ab8-4fab-bc80-93643a61b1cf"
      },
      "execution_count": 47,
      "outputs": [
        {
          "output_type": "execute_result",
          "data": {
            "text/plain": [
              "title           object\n",
              "desc            object\n",
              "year            object\n",
              "genre           object\n",
              "certificate     object\n",
              "runtime         object\n",
              "rating         float64\n",
              "votes           object\n",
              "dtype: object"
            ]
          },
          "metadata": {},
          "execution_count": 47
        }
      ]
    },
    {
      "cell_type": "code",
      "source": [
        "noOfvotes = cleaned_animations_df['votes'].str.replace(',', '')\n",
        "noOfvotes"
      ],
      "metadata": {
        "colab": {
          "base_uri": "https://localhost:8080/"
        },
        "id": "N8bZLBnGSXSS",
        "outputId": "928e0a1c-31d1-474f-b544-19dbc8731d68"
      },
      "execution_count": 49,
      "outputs": [
        {
          "output_type": "execute_result",
          "data": {
            "text/plain": [
              "0         18226\n",
              "1         27296\n",
              "2         60908\n",
              "3         35962\n",
              "4        527839\n",
              "          ...  \n",
              "22321        14\n",
              "22325        16\n",
              "22328        20\n",
              "22340        12\n",
              "22352        16\n",
              "Name: votes, Length: 13290, dtype: object"
            ]
          },
          "metadata": {},
          "execution_count": 49
        }
      ]
    },
    {
      "cell_type": "code",
      "source": [
        "cleaned_animations_df.replace(['votes'],['noOfvotes'])\n",
        "cleaned_animations_df.head()"
      ],
      "metadata": {
        "colab": {
          "base_uri": "https://localhost:8080/",
          "height": 206
        },
        "id": "MwpwM7IjSniB",
        "outputId": "d897ec53-d8b8-4a16-d618-cee548815951"
      },
      "execution_count": 50,
      "outputs": [
        {
          "output_type": "execute_result",
          "data": {
            "text/plain": [
              "                            title  \\\n",
              "0    Puss in Boots: The Last Wish   \n",
              "1                   Strange World   \n",
              "2  Guillermo del Toro's Pinocchio   \n",
              "3        Star Wars: The Bad Batch   \n",
              "4                  Rick and Morty   \n",
              "\n",
              "                                                desc    year  \\\n",
              "0  Puss in Boots discovers that his passion for a...    2022   \n",
              "1  The legendary Clades are a family of explorers...    2022   \n",
              "2  A father's wish magically brings a wooden boy ...    2022   \n",
              "3  The 'Bad Batch' of elite and experimental clon...  2021–    \n",
              "4  An animated series that follows the exploits o...  2013–    \n",
              "\n",
              "                          genre certificate  runtime  rating    votes  \n",
              "0  Animation, Adventure, Comedy           U  102 min     7.8   18,226  \n",
              "1  Animation, Action, Adventure          PG  102 min     5.5   27,296  \n",
              "2      Animation, Drama, Family          PG  117 min     7.7   60,908  \n",
              "3  Animation, Action, Adventure          PG      NaN     7.8   35,962  \n",
              "4  Animation, Adventure, Comedy         16+   23 min     9.1  527,839  "
            ],
            "text/html": [
              "\n",
              "  <div id=\"df-262269e9-11b0-4bb5-bd7f-8dd50f2c33ef\">\n",
              "    <div class=\"colab-df-container\">\n",
              "      <div>\n",
              "<style scoped>\n",
              "    .dataframe tbody tr th:only-of-type {\n",
              "        vertical-align: middle;\n",
              "    }\n",
              "\n",
              "    .dataframe tbody tr th {\n",
              "        vertical-align: top;\n",
              "    }\n",
              "\n",
              "    .dataframe thead th {\n",
              "        text-align: right;\n",
              "    }\n",
              "</style>\n",
              "<table border=\"1\" class=\"dataframe\">\n",
              "  <thead>\n",
              "    <tr style=\"text-align: right;\">\n",
              "      <th></th>\n",
              "      <th>title</th>\n",
              "      <th>desc</th>\n",
              "      <th>year</th>\n",
              "      <th>genre</th>\n",
              "      <th>certificate</th>\n",
              "      <th>runtime</th>\n",
              "      <th>rating</th>\n",
              "      <th>votes</th>\n",
              "    </tr>\n",
              "  </thead>\n",
              "  <tbody>\n",
              "    <tr>\n",
              "      <th>0</th>\n",
              "      <td>Puss in Boots: The Last Wish</td>\n",
              "      <td>Puss in Boots discovers that his passion for a...</td>\n",
              "      <td>2022</td>\n",
              "      <td>Animation, Adventure, Comedy</td>\n",
              "      <td>U</td>\n",
              "      <td>102 min</td>\n",
              "      <td>7.8</td>\n",
              "      <td>18,226</td>\n",
              "    </tr>\n",
              "    <tr>\n",
              "      <th>1</th>\n",
              "      <td>Strange World</td>\n",
              "      <td>The legendary Clades are a family of explorers...</td>\n",
              "      <td>2022</td>\n",
              "      <td>Animation, Action, Adventure</td>\n",
              "      <td>PG</td>\n",
              "      <td>102 min</td>\n",
              "      <td>5.5</td>\n",
              "      <td>27,296</td>\n",
              "    </tr>\n",
              "    <tr>\n",
              "      <th>2</th>\n",
              "      <td>Guillermo del Toro's Pinocchio</td>\n",
              "      <td>A father's wish magically brings a wooden boy ...</td>\n",
              "      <td>2022</td>\n",
              "      <td>Animation, Drama, Family</td>\n",
              "      <td>PG</td>\n",
              "      <td>117 min</td>\n",
              "      <td>7.7</td>\n",
              "      <td>60,908</td>\n",
              "    </tr>\n",
              "    <tr>\n",
              "      <th>3</th>\n",
              "      <td>Star Wars: The Bad Batch</td>\n",
              "      <td>The 'Bad Batch' of elite and experimental clon...</td>\n",
              "      <td>2021–</td>\n",
              "      <td>Animation, Action, Adventure</td>\n",
              "      <td>PG</td>\n",
              "      <td>NaN</td>\n",
              "      <td>7.8</td>\n",
              "      <td>35,962</td>\n",
              "    </tr>\n",
              "    <tr>\n",
              "      <th>4</th>\n",
              "      <td>Rick and Morty</td>\n",
              "      <td>An animated series that follows the exploits o...</td>\n",
              "      <td>2013–</td>\n",
              "      <td>Animation, Adventure, Comedy</td>\n",
              "      <td>16+</td>\n",
              "      <td>23 min</td>\n",
              "      <td>9.1</td>\n",
              "      <td>527,839</td>\n",
              "    </tr>\n",
              "  </tbody>\n",
              "</table>\n",
              "</div>\n",
              "      <button class=\"colab-df-convert\" onclick=\"convertToInteractive('df-262269e9-11b0-4bb5-bd7f-8dd50f2c33ef')\"\n",
              "              title=\"Convert this dataframe to an interactive table.\"\n",
              "              style=\"display:none;\">\n",
              "        \n",
              "  <svg xmlns=\"http://www.w3.org/2000/svg\" height=\"24px\"viewBox=\"0 0 24 24\"\n",
              "       width=\"24px\">\n",
              "    <path d=\"M0 0h24v24H0V0z\" fill=\"none\"/>\n",
              "    <path d=\"M18.56 5.44l.94 2.06.94-2.06 2.06-.94-2.06-.94-.94-2.06-.94 2.06-2.06.94zm-11 1L8.5 8.5l.94-2.06 2.06-.94-2.06-.94L8.5 2.5l-.94 2.06-2.06.94zm10 10l.94 2.06.94-2.06 2.06-.94-2.06-.94-.94-2.06-.94 2.06-2.06.94z\"/><path d=\"M17.41 7.96l-1.37-1.37c-.4-.4-.92-.59-1.43-.59-.52 0-1.04.2-1.43.59L10.3 9.45l-7.72 7.72c-.78.78-.78 2.05 0 2.83L4 21.41c.39.39.9.59 1.41.59.51 0 1.02-.2 1.41-.59l7.78-7.78 2.81-2.81c.8-.78.8-2.07 0-2.86zM5.41 20L4 18.59l7.72-7.72 1.47 1.35L5.41 20z\"/>\n",
              "  </svg>\n",
              "      </button>\n",
              "      \n",
              "  <style>\n",
              "    .colab-df-container {\n",
              "      display:flex;\n",
              "      flex-wrap:wrap;\n",
              "      gap: 12px;\n",
              "    }\n",
              "\n",
              "    .colab-df-convert {\n",
              "      background-color: #E8F0FE;\n",
              "      border: none;\n",
              "      border-radius: 50%;\n",
              "      cursor: pointer;\n",
              "      display: none;\n",
              "      fill: #1967D2;\n",
              "      height: 32px;\n",
              "      padding: 0 0 0 0;\n",
              "      width: 32px;\n",
              "    }\n",
              "\n",
              "    .colab-df-convert:hover {\n",
              "      background-color: #E2EBFA;\n",
              "      box-shadow: 0px 1px 2px rgba(60, 64, 67, 0.3), 0px 1px 3px 1px rgba(60, 64, 67, 0.15);\n",
              "      fill: #174EA6;\n",
              "    }\n",
              "\n",
              "    [theme=dark] .colab-df-convert {\n",
              "      background-color: #3B4455;\n",
              "      fill: #D2E3FC;\n",
              "    }\n",
              "\n",
              "    [theme=dark] .colab-df-convert:hover {\n",
              "      background-color: #434B5C;\n",
              "      box-shadow: 0px 1px 3px 1px rgba(0, 0, 0, 0.15);\n",
              "      filter: drop-shadow(0px 1px 2px rgba(0, 0, 0, 0.3));\n",
              "      fill: #FFFFFF;\n",
              "    }\n",
              "  </style>\n",
              "\n",
              "      <script>\n",
              "        const buttonEl =\n",
              "          document.querySelector('#df-262269e9-11b0-4bb5-bd7f-8dd50f2c33ef button.colab-df-convert');\n",
              "        buttonEl.style.display =\n",
              "          google.colab.kernel.accessAllowed ? 'block' : 'none';\n",
              "\n",
              "        async function convertToInteractive(key) {\n",
              "          const element = document.querySelector('#df-262269e9-11b0-4bb5-bd7f-8dd50f2c33ef');\n",
              "          const dataTable =\n",
              "            await google.colab.kernel.invokeFunction('convertToInteractive',\n",
              "                                                     [key], {});\n",
              "          if (!dataTable) return;\n",
              "\n",
              "          const docLinkHtml = 'Like what you see? Visit the ' +\n",
              "            '<a target=\"_blank\" href=https://colab.research.google.com/notebooks/data_table.ipynb>data table notebook</a>'\n",
              "            + ' to learn more about interactive tables.';\n",
              "          element.innerHTML = '';\n",
              "          dataTable['output_type'] = 'display_data';\n",
              "          await google.colab.output.renderOutput(dataTable, element);\n",
              "          const docLink = document.createElement('div');\n",
              "          docLink.innerHTML = docLinkHtml;\n",
              "          element.appendChild(docLink);\n",
              "        }\n",
              "      </script>\n",
              "    </div>\n",
              "  </div>\n",
              "  "
            ]
          },
          "metadata": {},
          "execution_count": 50
        }
      ]
    },
    {
      "cell_type": "markdown",
      "source": [
        "**Recommendation system based on cosine similarity matrix**"
      ],
      "metadata": {
        "id": "D30yf-p-JQz1"
      }
    },
    {
      "cell_type": "code",
      "source": [
        "#developing cosine similarity matrix\n",
        "tf = TfidfVectorizer(analyzer='word',strip_accents = 'unicode',ngram_range=(1, 3),min_df=3, token_pattern = r'\\w{1,}', stop_words='english')\n",
        "tfidf_matrix = tf.fit_transform(cleaned_animations_df['desc'])\n",
        "cosine_sim = linear_kernel(tfidf_matrix, tfidf_matrix)"
      ],
      "metadata": {
        "id": "TGUPkFnP_xsC"
      },
      "execution_count": 51,
      "outputs": []
    },
    {
      "cell_type": "code",
      "source": [
        "tfidf_matrix2 = tf.fit_transform(cleaned_animations_df['desc'].sample(n=50))\n",
        "cosine_sim2 = linear_kernel(tfidf_matrix2, tfidf_matrix2)"
      ],
      "metadata": {
        "id": "Dro3kxfpC2QP"
      },
      "execution_count": 52,
      "outputs": []
    },
    {
      "cell_type": "code",
      "source": [
        "print('Correlation of 50 randomly sampled animated tv shows')\n",
        "ax = sns.heatmap(\n",
        "    cosine_sim2, \n",
        "    vmin=-0.03, vmax=0.03, center=0,\n",
        "    square=True\n",
        ")"
      ],
      "metadata": {
        "colab": {
          "base_uri": "https://localhost:8080/",
          "height": 289
        },
        "id": "JKl_-NKmDC_G",
        "outputId": "b456b7cc-c6df-4bd0-a1cc-57dc07e4aeca"
      },
      "execution_count": 53,
      "outputs": [
        {
          "output_type": "stream",
          "name": "stdout",
          "text": [
            "Correlation of 50 randomly sampled animated tv shows\n"
          ]
        },
        {
          "output_type": "display_data",
          "data": {
            "text/plain": [
              "<Figure size 432x288 with 2 Axes>"
            ],
            "image/png": "[encoded data removed]"
          },
          "metadata": {
            "needs_background": "light"
          }
        }
      ]
    },
    {
      "cell_type": "markdown",
      "source": [
        "**Content Based Recommendation system**"
      ],
      "metadata": {
        "id": "RLnv3jmLEFe8"
      }
    },
    {
      "cell_type": "code",
      "source": [
        "indices = pd.Series(cleaned_animations_df.index, index = cleaned_animations_df['title']).drop_duplicates()\n",
        "indices"
      ],
      "metadata": {
        "colab": {
          "base_uri": "https://localhost:8080/"
        },
        "id": "23y9Yry1DRai",
        "outputId": "71294122-e50b-4a24-a604-5ff46e1704d2"
      },
      "execution_count": 54,
      "outputs": [
        {
          "output_type": "execute_result",
          "data": {
            "text/plain": [
              "title\n",
              "Puss in Boots: The Last Wish                    0\n",
              "Strange World                                   1\n",
              "Guillermo del Toro's Pinocchio                  2\n",
              "Star Wars: The Bad Batch                        3\n",
              "Rick and Morty                                  4\n",
              "                                            ...  \n",
              "Almasaqeel                                  22321\n",
              "Wolpertinger Wochenschau                    22325\n",
              "Robot Taekwon V 3tan! Sujung teukgongdae    22328\n",
              "South Jersey Sam                            22340\n",
              "Glee Spoofs                                 22352\n",
              "Length: 13290, dtype: int64"
            ]
          },
          "metadata": {},
          "execution_count": 54
        }
      ]
    },
    {
      "cell_type": "code",
      "source": [
        "#function returning the name, indices and similarity score of recommended movies\n",
        "def give_rec(title):\n",
        "  idx = indices[title]\n",
        "  sig_scores = list(enumerate(cosine_sim[idx]))\n",
        "  sig_scores = sorted(sig_scores, key=lambda x: x[1], reverse=True)\n",
        "  sig_scores = sig_scores[1:11]\n",
        "  animations_indices = [i[0] for i in sig_scores]\n",
        "  return cleaned_animations_df['title'].iloc[animations_indices], sig_scores\n"
      ],
      "metadata": {
        "id": "KsF8X0rGFS3O"
      },
      "execution_count": 55,
      "outputs": []
    },
    {
      "cell_type": "code",
      "source": [
        "give_rec('Strange World')"
      ],
      "metadata": {
        "colab": {
          "base_uri": "https://localhost:8080/"
        },
        "id": "nTQuf8QHG2ay",
        "outputId": "23f88c64-b2a7-4d6b-c579-4706a5e8b29e"
      },
      "execution_count": 56,
      "outputs": [
        {
          "output_type": "execute_result",
          "data": {
            "text/plain": [
              "(2170                                  Go Jetters\n",
              " 17834                             Amazing Aliens\n",
              " 15816                            Tsuin shigunaru\n",
              " 15504                              Mission Paisa\n",
              " 1335                           The Garfield Show\n",
              " 4361     Lupin the IIIrd: Jigen Daisuke no Bohyô\n",
              " 1303                                    The Deep\n",
              " 9306                          Planes with Brains\n",
              " 7931                               Mighty Heroes\n",
              " 8090                         Wanda and the Alien\n",
              " Name: title, dtype: object,\n",
              " [(2057, 0.22766861484350978),\n",
              "  (12668, 0.20437355685983655),\n",
              "  (12123, 0.1978517729187283),\n",
              "  (12028, 0.19140365345002155),\n",
              "  (1268, 0.169063315094259),\n",
              "  (4133, 0.16832480292180493),\n",
              "  (1237, 0.1658690161354941),\n",
              "  (8541, 0.16315345262979983),\n",
              "  (7383, 0.16171927309209588),\n",
              "  (7523, 0.154462312326623)])"
            ]
          },
          "metadata": {},
          "execution_count": 56
        }
      ]
    }
  ]
}